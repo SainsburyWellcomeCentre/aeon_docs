{
 "cells": [
  {
   "cell_type": "markdown",
   "metadata": {},
   "source": [
    "(target-dj-querying-data)=\n",
    "# DataJoint pipeline: Querying data\n",
    "\n",
    ":::{important}\n",
    "Before you begin, ensure you have a [DataJoint pipeline deployed](target-dj-pipeline-deployment) and have [data ingested into the pipeline](target-dj-data-ingestion-processing).\n",
    ":::\n",
    "\n",
    "This notebook provides a few examples on how to query data from the [Aeon DataJoint pipeline](target-aeon-dj-pipeline). \n",
    "\n",
    ":::{note}\n",
    "This notebook uses the [Single mouse in a foraging assay](sample-data-single-mouse-foraging:) sample dataset for the experiment named `social0.2-aeon3`. \n",
    "If you are using a different dataset, please replace the experiment name and other parameters in the code below accordingly.\n",
    ":::"
   ]
  },
  {
   "cell_type": "code",
   "execution_count": null,
   "metadata": {},
   "outputs": [],
   "source": [
    "from aeon.dj_pipeline import acquisition, tracking\n",
    "from aeon.dj_pipeline.analysis import block_analysis\n"
   ]
  },
  {
   "cell_type": "markdown",
   "metadata": {
    "vscode": {
     "languageId": "plaintext"
    }
   },
   "source": [
    "To query the entire `acquisition.Chunk` table:"
   ]
  },
  {
   "cell_type": "code",
   "execution_count": null,
   "metadata": {},
   "outputs": [],
   "source": [
    "acquisition.Chunk()"
   ]
  },
  {
   "cell_type": "markdown",
   "metadata": {},
   "source": [
    "With different [operators](datajoint:docs/core/datajoint-python/0.14/query/operators/), we can perform complex queries and manipulations on the data,\n",
    "enabling us to filter, join, project, aggregate, and manipulate data in the DataJoint tables.\n",
    "For example, we can use the [restriction operator `&`](datajoint:docs/core/datajoint-python/0.14/query/operators/#restriction) to retrieve all {term}`chunks <Acquisition Chunk>` associated with the experiment `social0.2-aeon3`:"
   ]
  },
  {
   "cell_type": "code",
   "execution_count": null,
   "metadata": {},
   "outputs": [],
   "source": [
    "experiment_key = {\"experiment_name\": \"social0.2-aeon3\"}\n",
    "acquisition.Chunk & experiment_key\n"
   ]
  },
  {
   "cell_type": "markdown",
   "metadata": {},
   "source": [
    "To query position data from [SLEAP](sleap:) tracking:"
   ]
  },
  {
   "cell_type": "code",
   "execution_count": null,
   "metadata": {},
   "outputs": [],
   "source": [
    "tracking.SLEAPTracking & experiment_key"
   ]
  },
  {
   "cell_type": "code",
   "execution_count": null,
   "metadata": {},
   "outputs": [],
   "source": [
    "tracking.SLEAPTracking.PoseIdentity & experiment_key"
   ]
  },
  {
   "cell_type": "code",
   "execution_count": null,
   "metadata": {},
   "outputs": [],
   "source": [
    "tracking.SLEAPTracking.Part & experiment_key"
   ]
  },
  {
   "cell_type": "markdown",
   "metadata": {},
   "source": [
    "To query all experiment `social0.2-aeon3` _blocks_ and analyses at the _block_ level:"
   ]
  },
  {
   "cell_type": "code",
   "execution_count": null,
   "metadata": {},
   "outputs": [],
   "source": [
    "block_analysis.Block & experiment_key"
   ]
  },
  {
   "cell_type": "code",
   "execution_count": null,
   "metadata": {},
   "outputs": [],
   "source": [
    "block_analysis.BlockAnalysis & experiment_key"
   ]
  },
  {
   "cell_type": "markdown",
   "metadata": {},
   "source": [
    "To [`fetch()`](datajoint:docs/core/datajoint-python/0.14/query/fetch/#fetch) the [primary keys](datajoint:docs/core/datajoint-python/0.14/design/tables/primary/) of all experiment `social0.2-aeon3` _blocks_:"
   ]
  },
  {
   "cell_type": "code",
   "execution_count": null,
   "metadata": {},
   "outputs": [],
   "source": [
    "block_keys = (block_analysis.Block & experiment_key).fetch(\"KEY\")"
   ]
  },
  {
   "cell_type": "markdown",
   "metadata": {},
   "source": [
    "Let's pick a random block key to inspect further the block analysis tables:"
   ]
  },
  {
   "cell_type": "code",
   "execution_count": null,
   "metadata": {},
   "outputs": [],
   "source": [
    "block_key = block_keys[10]"
   ]
  },
  {
   "cell_type": "code",
   "execution_count": null,
   "metadata": {},
   "outputs": [],
   "source": [
    "block_analysis.BlockAnalysis.Patch & block_key"
   ]
  },
  {
   "cell_type": "code",
   "execution_count": null,
   "metadata": {},
   "outputs": [],
   "source": [
    "block_analysis.BlockAnalysis.Subject & block_key"
   ]
  },
  {
   "cell_type": "code",
   "execution_count": null,
   "metadata": {},
   "outputs": [],
   "source": [
    "block_analysis.BlockSubjectAnalysis.Patch & block_key"
   ]
  },
  {
   "cell_type": "code",
   "execution_count": null,
   "metadata": {},
   "outputs": [],
   "source": [
    "block_analysis.BlockSubjectAnalysis.Preference & block_key"
   ]
  },
  {
   "cell_type": "code",
   "execution_count": null,
   "metadata": {},
   "outputs": [],
   "source": [
    "# subject position\n",
    "block_analysis.BlockSubjectPositionPlots.InROI & block_key\n"
   ]
  },
  {
   "cell_type": "code",
   "execution_count": null,
   "metadata": {},
   "outputs": [],
   "source": [
    "inroi_df = (\n",
    "    (block_analysis.BlockSubjectPositionPlots.InROI & block_key)\n",
    "    .fetch(format=\"frame\")\n",
    "    .reset_index()\n",
    ")\n",
    "inroi_df\n"
   ]
  }
 ],
 "metadata": {
  "language_info": {
   "name": "python"
  }
 },
 "nbformat": 4,
 "nbformat_minor": 2
}
